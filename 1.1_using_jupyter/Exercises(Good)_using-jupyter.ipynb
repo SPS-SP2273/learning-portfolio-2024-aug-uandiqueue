{
 "cells": [
  {
   "cell_type": "code",
   "execution_count": null,
   "id": "160f4a04-bb09-43f9-adea-e16033a971ea",
   "metadata": {},
   "outputs": [],
   "source": []
  }
 ],
 "metadata": {
  "kernelspec": {
   "display_name": "Python 3 (ipykernel)",
   "language": "python",
   "name": "python3"
  },
  "language_info": {
   "codemirror_mode": {
    "name": "ipython",
    "version": 3
   },
   "file_extension": ".py",
   "mimetype": "text/x-python",
   "name": "python",
   "nbconvert_exporter": "python",
   "pygments_lexer": "ipython3",
   "version": "3.12.3"
  }
 },
 "nbformat": 4,
 "nbformat_minor": 5
}
