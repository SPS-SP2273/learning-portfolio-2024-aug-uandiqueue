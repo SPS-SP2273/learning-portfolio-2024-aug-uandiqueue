{
 "cells": [
  {
   "attachments": {},
   "cell_type": "markdown",
   "id": "123456",
   "metadata": {},
   "source": [
    "<div style=\"text-align:left;font-size:2em\"><span style=\"font-weight:bolder;font-size:1.25em\">SP2273 | Learning Portfolio</span><br><br><span style=\"font-weight:bold;color:darkred\">Using Jupyter (Need)</span></div>"
   ]
  },
  {
   "attachments": {},
   "cell_type": "markdown",
   "id": "955d5ec9",
   "metadata": {},
   "source": [
    "# What to expect in this chapter"
   ]
  },
  {
   "attachments": {},
   "cell_type": "markdown",
   "id": "4bbd7662",
   "metadata": {},
   "source": [
    "# 1 Getting ready"
   ]
  },
  {
   "attachments": {},
   "cell_type": "markdown",
   "id": "d6e1b90d",
   "metadata": {},
   "source": [
    "# 2 Getting started with Jupyter"
   ]
  },
  {
   "attachments": {},
   "cell_type": "markdown",
   "id": "8420a2bc",
   "metadata": {},
   "source": [
    "## 2.1 It is all about running cells"
   ]
  },
  {
   "attachments": {},
   "cell_type": "markdown",
   "id": "f5102410",
   "metadata": {},
   "source": [
    "## 2.2 A traditional start"
   ]
  },
  {
   "attachments": {},
   "cell_type": "markdown",
   "id": "6a432558",
   "metadata": {},
   "source": [
    "# 3 All about Markdown"
   ]
  },
  {
   "attachments": {},
   "cell_type": "markdown",
   "id": "b8099eea",
   "metadata": {},
   "source": [
    "## 3.1 Rendering Markdown cells"
   ]
  },
  {
   "attachments": {},
   "cell_type": "markdown",
   "id": "491d2b3d",
   "metadata": {},
   "source": [
    "## 3.2 Some basic syntax"
   ]
  },
  {
   "attachments": {},
   "cell_type": "markdown",
   "id": "808a9ca0",
   "metadata": {},
   "source": [
    "## 3.3 Headings"
   ]
  },
  {
   "attachments": {},
   "cell_type": "markdown",
   "id": "a802af77",
   "metadata": {},
   "source": [
    "## 3.4 Displaying Code"
   ]
  },
  {
   "attachments": {},
   "cell_type": "markdown",
   "id": "7b97ca24",
   "metadata": {},
   "source": [
    "## 3.5 Links"
   ]
  },
  {
   "attachments": {},
   "cell_type": "markdown",
   "id": "b841f158",
   "metadata": {},
   "source": [
    "## 3.6 Images"
   ]
  },
  {
   "attachments": {},
   "cell_type": "markdown",
   "id": "75204454",
   "metadata": {},
   "source": [
    "## 3.7 Tables"
   ]
  },
  {
   "attachments": {},
   "cell_type": "markdown",
   "id": "5992b4af",
   "metadata": {},
   "source": [
    "## 3.8 Lists"
   ]
  },
  {
   "attachments": {},
   "cell_type": "markdown",
   "id": "c29ed526",
   "metadata": {},
   "source": [
    "## 3.9 Equations"
   ]
  },
  {
   "attachments": {},
   "cell_type": "markdown",
   "id": "956bfaa9",
   "metadata": {},
   "source": [
    "## Footnotes"
   ]
  },
  {
   "cell_type": "markdown",
   "id": "9f1ef055-aade-4539-8fcb-0ff1ae0b9a41",
   "metadata": {},
   "source": [
    "## **Introduction**\n",
    "![](https://upload.wikimedia.org/wikipedia/commons/thumb/f/f8/Polynomialdeg2.svg/450px-Polynomialdeg2.svg.png)\n",
    "\n",
    "(*Image from the [Wikipedia page on Quadratic equations](https://en.wikipedia.org/wiki/Quadratic_equation)*)\n",
    "\n",
    "The general form of a quadratic equation is:\n",
    "$$\n",
    "ax^2+bx+c=0\n",
    "$$\n",
    "\n",
    "## **Solutions**\n",
    "Provided $a \\ne 0$, we can use an elementary algebraic method called [completing the square](https://en.wikipedia.org/wiki/Completing_the_square) to show that a quadratic equation has the following solution:\n",
    "$$\n",
    "x=\\dfrac{-b \\pm \\sqrt{b^2-4ac}}{2a}\n",
    "$$\n",
    "\n",
    "## **Discriminant**\n",
    "The quantity $\\Delta=b^2-4ac$ is called the **discriminant** of the equation and decides the nature of its solutions. The table below shows the various possibilities.\n",
    "| **Discriminant** | **Roots** |\n",
    "|:--------------|:-------|\n",
    "| $\\Delta=b^2-4ac=0$            | A single solution of $-b/2a$     |\n",
    "| $\\Delta=b^2-4ac>0$            | Two distinct solutions     |\n",
    "| $\\Delta=b^2-4ac<0$            | No real solutions; both are complex.     |"
   ]
  },
  {
   "cell_type": "markdown",
   "id": "937a3edd-f49f-4c92-b1d4-ff0a19761e9b",
   "metadata": {},
   "source": [
    "1. It is like a google drive for code. It saves all versions of the files in it, and records down all the changes that have been made to the files. After I make changes with my code, I will commit my code to save the changes I have made.\n",
    "1. Git keeps tracks of all changes in the files in our repository.\n",
    "1. Commit is to record down the new changes made to my code as a new version in the Git repository locally.\n",
    "1. Push is to update the changes made to my code on GitHub.\n",
    "1. Pull is to update the version of my code saved locally to the version on GitHub.\n",
    "1. GitHub is an online platform that allows users to upload their Git repositories to the cloud for better collaboration. GitHub Desktop is an application that allows users to use GitHub more easily through graphical user interface."
   ]
  },
  {
   "cell_type": "markdown",
   "id": "9baf54cd-7eb5-4879-acb3-34be176e0bfd",
   "metadata": {},
   "source": [
    "$$\n",
    "\\mu=\\frac{1}{n}\\sum_{i=1}^{n} x_{i}\n",
    "$$\n",
    "$$\n",
    "\\sigma=\\sqrt{\\frac{1}{n}\\sum_{i=1}^{n}(x_{i}-\\mu)^2}\n",
    "$$\n",
    "$$\n",
    "r=\\frac{\\sum_{i=1}^{n}(x_{i}-\\mu _X)(y_{i}-\\mu _Y)}{\\sqrt{\\sum_{i=1}^{n}(x_{i}-\\mu _X)^2\\sum_{i=1}^{n}(y_{i}-\\mu _Y)^2}}\n",
    "$$"
   ]
  }
 ],
 "metadata": {
  "kernelspec": {
   "display_name": "Python 3 (ipykernel)",
   "language": "python",
   "name": "python3"
  },
  "language_info": {
   "codemirror_mode": {
    "name": "ipython",
    "version": 3
   },
   "file_extension": ".py",
   "mimetype": "text/x-python",
   "name": "python",
   "nbconvert_exporter": "python",
   "pygments_lexer": "ipython3",
   "version": "3.12.3"
  },
  "toc": {
   "base_numbering": 1,
   "nav_menu": {},
   "number_sections": true,
   "sideBar": true,
   "skip_h1_title": false,
   "title_cell": "Table of Contents",
   "title_sidebar": "Contents",
   "toc_cell": false,
   "toc_position": {},
   "toc_section_display": true,
   "toc_window_display": false
  },
  "vscode": {
   "interpreter": {
    "hash": "31f2aee4e71d21fbe5cf8b01ff0e069b9275f58929596ceb00d14d90e3e16cd6"
   }
  }
 },
 "nbformat": 4,
 "nbformat_minor": 5
}
