{
 "cells": [
  {
   "cell_type": "markdown",
   "id": "1552823f-5e14-414a-9d07-490f397324f6",
   "metadata": {},
   "source": [
    "The ship *hung in the sky* in much the same way that **bricks don't.**<sup>1</sup><sub>QUOTE</sub>"
   ]
  },
  {
   "cell_type": "markdown",
   "id": "4367a523-f794-41d2-b1f8-056b4035ef3f",
   "metadata": {},
   "source": [
    "`print ('Hello, world')`"
   ]
  },
  {
   "cell_type": "markdown",
   "id": "6a35c45a-7ae1-4815-8a61-c28f9cdc312e",
   "metadata": {},
   "source": [
    "[NUS Rejects](https://www.ntu.edu.sg/)"
   ]
  },
  {
   "cell_type": "markdown",
   "id": "066344c4-9a05-4ec9-95e2-cb6dea273f8b",
   "metadata": {},
   "source": [
    "![](https://nus.edu.sg/images/default-source/base/logo.png)"
   ]
  },
  {
   "cell_type": "markdown",
   "id": "51003bf5-5685-4a5d-a61c-d4ecc83c7560",
   "metadata": {},
   "source": [
    "![](Screenshot (22))"
   ]
  },
  {
   "cell_type": "markdown",
   "id": "bb985ca1-8882-45cf-897d-5c9abb45ee95",
   "metadata": {},
   "source": [
    "## **List of Universities in Singapore**\n",
    "<sub>(Non-exhaustive)</sub>\n",
    "1. NUS\n",
    "   1. Say bye to your mental health\n",
    "   2. If you are resting, say bye bye to your GPA\n",
    "1. NTU\n",
    "   1. You basically study and live in a jungle\n",
    "   2. You most likely will be spencing your entire 4 years in this stranded island\n",
    "1. SMU\n",
    "   1. You think partying is cool\n",
    "   2. You act cool\n",
    "1. SUTD\n",
    "   1. You have no other choices\n",
    "   2. Self-manifestation is your coping mechanism"
   ]
  },
  {
   "cell_type": "code",
   "execution_count": null,
   "id": "ba14f4f6-d21d-416e-9d2d-59ac08fc54d8",
   "metadata": {},
   "outputs": [],
   "source": []
  }
 ],
 "metadata": {
  "kernelspec": {
   "display_name": "Python 3 (ipykernel)",
   "language": "python",
   "name": "python3"
  },
  "language_info": {
   "codemirror_mode": {
    "name": "ipython",
    "version": 3
   },
   "file_extension": ".py",
   "mimetype": "text/x-python",
   "name": "python",
   "nbconvert_exporter": "python",
   "pygments_lexer": "ipython3",
   "version": "3.12.3"
  }
 },
 "nbformat": 4,
 "nbformat_minor": 5
}
