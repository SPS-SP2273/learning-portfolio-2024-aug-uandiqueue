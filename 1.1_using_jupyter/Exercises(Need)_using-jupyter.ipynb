{
 "cells": [
  {
   "cell_type": "markdown",
   "id": "1e7b4af6-3653-45f4-9e33-03262127cafe",
   "metadata": {},
   "source": [
    "## **Introduction**\n",
    "![](https://upload.wikimedia.org/wikipedia/commons/thumb/f/f8/Polynomialdeg2.svg/450px-Polynomialdeg2.svg.png)\n",
    "\n",
    "(*Image from the [Wikipedia page on Quadratic equations](https://en.wikipedia.org/wiki/Quadratic_equation)*)\n",
    "\n",
    "The general form of a quadratic equation is:\n",
    "$$\n",
    "ax^2+bx+c=0\n",
    "$$\n",
    "\n",
    "## **Solutions**\n",
    "Provided $a \\ne 0$, we can use an elementary algebraic method called [completing the square](https://en.wikipedia.org/wiki/Completing_the_square) to show that a quadratic equation has the following solution:\n",
    "$$\n",
    "x=\\dfrac{-b \\pm \\sqrt{b^2-4ac}}{2a}\n",
    "$$\n",
    "\n",
    "## **Discriminant**\n",
    "The quantity $\\Delta=b^2-4ac$ is called the **discriminant** of the equation and decides the nature of its solutions. The table below shows the various possibilities.\n",
    "| **Discriminant** | **Roots** |\n",
    "|:--------------|:-------|\n",
    "| $\\Delta=b^2-4ac=0$            | A single solution of $-b/2a$     |\n",
    "| $\\Delta=b^2-4ac>0$            | Two distinct solutions     |\n",
    "| $\\Delta=b^2-4ac<0$            | No real solutions; both are complex.     |"
   ]
  },
  {
   "cell_type": "markdown",
   "id": "3fe46df3-b578-4950-be9f-3ddc11df19c9",
   "metadata": {},
   "source": [
    "1. It is like a google drive for code. It saves all versions of the files in it, and records down all the changes that have been made to the files. After I make changes with my code, I will commit my code to save the changes I have made.\n",
    "1. Git keeps tracks of all changes in the files in our repository.\n",
    "1. Commit is to record down the new changes made to my code as a new version in the Git repository locally.\n",
    "1. Push is to update the changes made to my code on GitHub.\n",
    "1. Pull is to update the version of my code saved locally to the version on GitHub.\n",
    "1. GitHub is an online platform that allows users to upload their Git repositories to the cloud for better collaboration. GitHub Desktop is an application that allows users to use GitHub more easily through graphical user interface."
   ]
  },
  {
   "cell_type": "markdown",
   "id": "21888544-a62c-4f25-bf11-8e517ea52583",
   "metadata": {},
   "source": [
    "$$\n",
    "\\mu=\\frac{1}{n}\\sum_{i=1}^{n} x_{i}\n",
    "$$\n",
    "$$\n",
    "\\sigma=\\sqrt{\\frac{1}{n}\\sum_{i=1}^{n}(x_{i}-\\mu)^2}\n",
    "$$\n",
    "$$\n",
    "r=\\frac{\\sum_{i=1}^{n}(x_{i}-\\mu _X)(y_{i}-\\mu _Y)}{\\sqrt{\\sum_{i=1}^{n}(x_{i}-\\mu _X)^2\\sum_{i=1}^{n}(y_{i}-\\mu _Y)^2}}\n",
    "$$"
   ]
  }
 ],
 "metadata": {
  "kernelspec": {
   "display_name": "Python 3 (ipykernel)",
   "language": "python",
   "name": "python3"
  },
  "language_info": {
   "codemirror_mode": {
    "name": "ipython",
    "version": 3
   },
   "file_extension": ".py",
   "mimetype": "text/x-python",
   "name": "python",
   "nbconvert_exporter": "python",
   "pygments_lexer": "ipython3",
   "version": "3.12.3"
  }
 },
 "nbformat": 4,
 "nbformat_minor": 5
}
