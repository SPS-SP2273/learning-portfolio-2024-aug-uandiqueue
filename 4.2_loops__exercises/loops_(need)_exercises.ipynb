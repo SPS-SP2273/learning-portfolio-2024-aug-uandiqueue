{
 "cells": [
  {
   "attachments": {},
   "cell_type": "markdown",
   "id": "123456",
   "metadata": {},
   "source": [
    "<div style=\"text-align:left;font-size:2em\"><span style=\"font-weight:bolder;font-size:1.25em\">SP2273 | Learning Portfolio</span><br><br><span style=\"font-weight:bold;color:darkred\">Loops (Need) Exercises</span></div>"
   ]
  },
  {
   "cell_type": "code",
   "execution_count": 1,
   "id": "de11a005-ad8c-4f10-8b1d-c24160c421bf",
   "metadata": {},
   "outputs": [
    {
     "name": "stdout",
     "output_type": "stream",
     "text": [
      "0C, 32.0F\n",
      "5C, 41.0F\n",
      "10C, 50.0F\n",
      "15C, 59.0F\n",
      "20C, 68.0F\n",
      "25C, 77.0F\n",
      "30C, 86.0F\n",
      "35C, 95.0F\n",
      "40C, 104.0F\n",
      "45C, 113.0F\n",
      "50C, 122.0F\n"
     ]
    }
   ],
   "source": [
    "temperatures_celsius = [\n",
    "    0, 5, 10, 15, 20, 25,\n",
    "    30, 35, 40, 45, 50]\n",
    "import numpy as np\n",
    "tp_c = np.array(temperatures_celsius)\n",
    "tp_f = (tp_c * 9/5) + 32 #converting celcius to fahrenheit\n",
    "for tp in range(len(temperatures_celsius)):\n",
    "    print(f'{tp_c[tp]}C, {tp_f[tp]}F')"
   ]
  },
  {
   "cell_type": "code",
   "execution_count": 12,
   "id": "ba194c52-b708-4044-a9ee-5857edc0a52d",
   "metadata": {},
   "outputs": [
    {
     "name": "stdout",
     "output_type": "stream",
     "text": [
      "0C, 32.0F\n",
      "5C, 41.0F\n",
      "10C, 50.0F\n",
      "15C, 59.0F\n",
      "20C, 68.0F\n",
      "25C, 77.0F\n",
      "30C, 86.0F\n",
      "35C, 95.0F\n",
      "40C, 104.0F\n",
      "45C, 113.0F\n",
      "50C, 122.0F\n"
     ]
    }
   ],
   "source": [
    "#Different approach\n",
    "temperatures_celsius = [\n",
    "    0, 5, 10, 15, 20, 25,\n",
    "    30, 35, 40, 45, 50]\n",
    "tp_c = np.array(temperatures_celsius)\n",
    "for tp in tp_c:\n",
    "    print(f'{tp}C, {tp * 9/5 + 32}F') #directly convert celcius to fahrenheit in print"
   ]
  },
  {
   "cell_type": "code",
   "execution_count": 14,
   "id": "343469d7-f21b-41ae-bed6-4ab2203e72bd",
   "metadata": {},
   "outputs": [
    {
     "name": "stdout",
     "output_type": "stream",
     "text": [
      "A1\tA2\tA3\t\n",
      "\n",
      "B1\tB2\tB3\t\n",
      "\n",
      "C1\tC2\tC3\t\n",
      "\n"
     ]
    }
   ],
   "source": [
    "for letter in ['A', 'B', 'C']:\n",
    "    for number in [1, 2, 3]:\n",
    "        print(f'{letter}{number}', end = '\\t') #by default, print ends with a new line, \n",
    "                                               #the end statement allows it to end with a tab instead of a new line\n",
    "    print('\\n')"
   ]
  },
  {
   "cell_type": "code",
   "execution_count": 27,
   "id": "527d3630-9f7c-4bc7-9a0a-fce061431297",
   "metadata": {},
   "outputs": [
    {
     "name": "stdout",
     "output_type": "stream",
     "text": [
      "1 : 1    2    3    4    5    \n",
      "2 : 2    4    6    8    10   \n",
      "3 : 3    6    9    12   15   \n",
      "4 : 4    8    12   16   20   \n",
      "5 : 5    10   15   20   25   \n"
     ]
    }
   ],
   "source": [
    "for mainN in range(1, 6):\n",
    "    print(f'{mainN} :', end = ' ')\n",
    "    for subN in range(1, 6):\n",
    "        print(f'{mainN * subN : <4}', end = ' ')\n",
    "    print('')"
   ]
  },
  {
   "cell_type": "code",
   "execution_count": 41,
   "id": "053572c8-3fd2-4bfa-9ee8-cfda7ec86195",
   "metadata": {},
   "outputs": [
    {
     "name": "stdout",
     "output_type": "stream",
     "text": [
      "Experiment  1: No. of Heads = 4\n",
      "Experiment  2: No. of Heads = 5\n",
      "Experiment  3: No. of Heads = 3\n",
      "Experiment  4: No. of Heads = 1\n",
      "Experiment  5: No. of Heads = 3\n",
      "Experiment  6: No. of Heads = 1\n",
      "Experiment  7: No. of Heads = 4\n",
      "Experiment  8: No. of Heads = 6\n",
      "Experiment  9: No. of Heads = 8\n",
      "Experiment 10: No. of Heads = 6\n"
     ]
    }
   ],
   "source": [
    "for exp in range(10):\n",
    "    result = np.random.rand(10)\n",
    "    count = 0\n",
    "    for head in result:\n",
    "        if (head >= 0.5):\n",
    "            count += 1\n",
    "    print(f\"Experiment {exp + 1 : >2}: No. of Heads = {count}\")"
   ]
  }
 ],
 "metadata": {
  "kernelspec": {
   "display_name": "Python 3 (ipykernel)",
   "language": "python",
   "name": "python3"
  },
  "language_info": {
   "codemirror_mode": {
    "name": "ipython",
    "version": 3
   },
   "file_extension": ".py",
   "mimetype": "text/x-python",
   "name": "python",
   "nbconvert_exporter": "python",
   "pygments_lexer": "ipython3",
   "version": "3.12.3"
  },
  "toc": {
   "base_numbering": 1,
   "nav_menu": {},
   "number_sections": true,
   "sideBar": true,
   "skip_h1_title": false,
   "title_cell": "Table of Contents",
   "title_sidebar": "Contents",
   "toc_cell": false,
   "toc_position": {},
   "toc_section_display": true,
   "toc_window_display": false
  },
  "vscode": {
   "interpreter": {
    "hash": "31f2aee4e71d21fbe5cf8b01ff0e069b9275f58929596ceb00d14d90e3e16cd6"
   }
  }
 },
 "nbformat": 4,
 "nbformat_minor": 5
}
