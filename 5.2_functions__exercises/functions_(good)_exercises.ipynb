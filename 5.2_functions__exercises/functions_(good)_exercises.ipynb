{
 "cells": [
  {
   "attachments": {},
   "cell_type": "markdown",
   "id": "123456",
   "metadata": {},
   "source": [
    "<div style=\"text-align:left;font-size:2em\"><span style=\"font-weight:bolder;font-size:1.25em\">SP2273 | Learning Portfolio</span><br><br><span style=\"font-weight:bold;color:darkred\">Functions (Good) Exercises</span></div>"
   ]
  },
  {
   "cell_type": "code",
   "execution_count": 70,
   "id": "c4e187e0-8c60-4940-92dd-98c7a6601aa5",
   "metadata": {},
   "outputs": [
    {
     "name": "stdin",
     "output_type": "stream",
     "text": [
      "Temperature in Celsius(C):  23\n",
      "Press 1 for Kelvin\n",
      " 1\n"
     ]
    },
    {
     "name": "stdout",
     "output_type": "stream",
     "text": [
      "-250.15K\n"
     ]
    }
   ],
   "source": [
    "def convert_celsius(temperature_celsius, target_scale ='Fahrenheit'):\n",
    "    if (target_scale == 'Fahrenheit'):\n",
    "        return (f'{(float(temperature_celsius) * 9/5) + 32: .2F}F')  #converting C to F\n",
    "    elif (target_scale == 'Kelvin'):\n",
    "        return (f'{float(temperature_celsius) - 273.15: .2F}K')  #converting C to K\n",
    "\n",
    "try:\n",
    "    tp_c = input('Temperature in Celsius(C): ')\n",
    "    float(tp_c)\n",
    "    scale = input('Press 1 for Kelvin\\n')\n",
    "    if scale == '1':\n",
    "        tg_s = 'Kelvin'\n",
    "    else:\n",
    "        tg_s = 'Fahrenheit'\n",
    "    print(convert_celsius(tp_c, tg_s))\n",
    "\n",
    "except:\n",
    "    print('Please enter valid temperature and scale.')"
   ]
  },
  {
   "cell_type": "code",
   "execution_count": 72,
   "id": "527b53f1-d081-4e31-a77e-2c6261f85d45",
   "metadata": {},
   "outputs": [
    {
     "name": "stdin",
     "output_type": "stream",
     "text": [
      "Temperature in Fahrenheit(F):  -4\n",
      "Press 1 for Kelvin\n",
      " \n"
     ]
    },
    {
     "name": "stdout",
     "output_type": "stream",
     "text": [
      "-20.00C\n"
     ]
    }
   ],
   "source": [
    "def convert_fahrenheit(temperature_fahrenheit, target_scale = 'Celsius'):\n",
    "    tp_c = (float(temperature_fahrenheit) - 32) * 5/9  #converting F to C\n",
    "    if (target_scale == 'Celsius'):\n",
    "        return (f'{tp_c:.2F}C')\n",
    "    elif (target_scale == 'Kelvin'):\n",
    "        return (f'{tp_c - 273.15:.2F}K') #converting to K\n",
    "\n",
    "try:\n",
    "    tp_f = input('Temperature in Fahrenheit(F): ')\n",
    "    float(tp_f)\n",
    "    scale = input('Press 1 for Kelvin\\n')\n",
    "    if scale == '1':\n",
    "        tg_s = 'Kelvin'\n",
    "    else:\n",
    "        tg_s = 'Celsius'\n",
    "    print(convert_fahrenheit(tp_f, tg_s))\n",
    "\n",
    "except:\n",
    "    print('Please enter valid temperature and scale.')"
   ]
  },
  {
   "cell_type": "code",
   "execution_count": null,
   "id": "f1376fcb-bf19-4a37-b0a1-23db1bfc7a43",
   "metadata": {},
   "outputs": [
    {
     "name": "stdin",
     "output_type": "stream",
     "text": [
      "Temperature:  904.56\n"
     ]
    }
   ],
   "source": [
    "def convert_kelvin(temperature_kelvin, target_scale = 'Celsius'):\n",
    "    tp_c = (float(temperature_kelvin) + 273.15)  #converting K to C\n",
    "    if (target_scale == 'Celsius'):\n",
    "        return (f'{tp_c:.2F}C')\n",
    "    elif (target_scale == 'Fahrenheit'):\n",
    "        return (f'{(tp_c * 9/5) + 32: .2F}F')  #converting C to F\n",
    "\n",
    "def convert_temperature(temperature, source_scale, target_scale):\n",
    "    if (source_scale == 'c'):\n",
    "        return convert_celsius(temperature, target_scale)\n",
    "    elif (source_scale == 'f'):\n",
    "        return convert_fahrenheit(temperature, target_scale)\n",
    "    elif (source_scale == 'k'):\n",
    "        return convert_kelvin(temperature, target_scale)\n",
    "\n",
    "try:\n",
    "    tp = input('Temperature: ')\n",
    "    float(tp)\n",
    "    source_scale = input('Temperature entered is in celsius, fahrenheit or Kelvin? c/f/k\\n')\n",
    "    tgs = input('Conversion to celsius, fahrenheit or Kelvin? c/f/k\\n')\n",
    "    if (source_scale == tgs):\n",
    "        print(f'{float(tp):.2F}{tgs.upper()}')\n",
    "    else:\n",
    "        if (tgs == 'c'):\n",
    "            target_scale = 'Celsius'\n",
    "        elif (tgs == 'f'):\n",
    "            target_scale = 'Fahrenheit'\n",
    "        elif (tgs == 'k'):\n",
    "            target_scale = 'Kelvin'\n",
    "        print(convert_temperature(tp, source_scale, target_scale))\n",
    "\n",
    "except:\n",
    "    print('Please enter valid temperature and scale.')"
   ]
  }
 ],
 "metadata": {
  "kernelspec": {
   "display_name": "Python 3 (ipykernel)",
   "language": "python",
   "name": "python3"
  },
  "language_info": {
   "codemirror_mode": {
    "name": "ipython",
    "version": 3
   },
   "file_extension": ".py",
   "mimetype": "text/x-python",
   "name": "python",
   "nbconvert_exporter": "python",
   "pygments_lexer": "ipython3",
   "version": "3.12.3"
  },
  "toc": {
   "base_numbering": 1,
   "nav_menu": {},
   "number_sections": true,
   "sideBar": true,
   "skip_h1_title": false,
   "title_cell": "Table of Contents",
   "title_sidebar": "Contents",
   "toc_cell": false,
   "toc_position": {},
   "toc_section_display": true,
   "toc_window_display": false
  },
  "vscode": {
   "interpreter": {
    "hash": "31f2aee4e71d21fbe5cf8b01ff0e069b9275f58929596ceb00d14d90e3e16cd6"
   }
  }
 },
 "nbformat": 4,
 "nbformat_minor": 5
}
