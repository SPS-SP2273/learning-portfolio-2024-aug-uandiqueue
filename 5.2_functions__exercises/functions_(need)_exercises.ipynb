{
 "cells": [
  {
   "attachments": {},
   "cell_type": "markdown",
   "id": "123456",
   "metadata": {},
   "source": [
    "<div style=\"text-align:left;font-size:2em\"><span style=\"font-weight:bolder;font-size:1.25em\">SP2273 | Learning Portfolio</span><br><br><span style=\"font-weight:bold;color:darkred\">Functions (Need) Exercises</span></div>"
   ]
  },
  {
   "cell_type": "markdown",
   "id": "dd66499c-36b8-45b9-ba9d-89e7fb8f6978",
   "metadata": {},
   "source": [
    "Exercise 1\n",
    "\n",
    "If the condition of `if` is met, the function will directly return an output, and exit the function block. `else` statement is not required as if the `if` condition is not met, the code will continue to line 4 and return the other value. Hence, there is always a return value whether or not the condition is met."
   ]
  },
  {
   "cell_type": "code",
   "execution_count": 16,
   "id": "1df9a3d4-4ea4-42c7-b8e5-b3b2be4b6e92",
   "metadata": {},
   "outputs": [
    {
     "name": "stdin",
     "output_type": "stream",
     "text": [
      "What is your weight in kg:  55\n",
      "What is your height in m:  1.7\n"
     ]
    },
    {
     "name": "stdout",
     "output_type": "stream",
     "text": [
      "Normal weight\n"
     ]
    }
   ],
   "source": [
    "def isrealnumber(number):  #to ensure valid input\n",
    "    try:\n",
    "        float(number)\n",
    "        return True\n",
    "    except:\n",
    "        return False\n",
    "        \n",
    "def calculate_bmi(weight, height):  #to calculate bmi\n",
    "    bmi = float(weight) / (float(height)**2)\n",
    "    if (bmi < 18.5):\n",
    "        return \"Underweight\"\n",
    "    if (18.5 <= bmi <= 24.9):\n",
    "        return \"Normal weight\"\n",
    "    if (24.9 < bmi <= 29.9):\n",
    "        return \"Overweight\"\n",
    "    if (bmi > 29.9):\n",
    "        return \"Obese\"\n",
    "\n",
    "weight = input(\"What is your weight in kg: \")\n",
    "if (isrealnumber(weight)):\n",
    "    height = input(\"What is your height in m: \")\n",
    "    if (isrealnumber(height)):\n",
    "        print(calculate_bmi(weight, height))\n",
    "    else:\n",
    "        print(\"Please enter a valid height in m\")\n",
    "else:\n",
    "    print(\"Please enter a valid weight in kg\")"
   ]
  },
  {
   "cell_type": "code",
   "execution_count": 31,
   "id": "799adeb1-8f97-45cb-85cd-5d8a5b745588",
   "metadata": {},
   "outputs": [
    {
     "name": "stdin",
     "output_type": "stream",
     "text": [
      "Number:  8\n"
     ]
    },
    {
     "name": "stdout",
     "output_type": "stream",
     "text": [
      "40320\n"
     ]
    }
   ],
   "source": [
    "def findfactorial(number):\n",
    "    calc = 1\n",
    "    for x in range(1, int(number) + 1):\n",
    "        calc = calc * x\n",
    "    return calc\n",
    "\n",
    "number = input(\"Number: \")\n",
    "if (number.isdigit()):\n",
    "    print(findfactorial(number))\n",
    "else:\n",
    "    print(\"Please enter a valid positive integer.\")"
   ]
  }
 ],
 "metadata": {
  "kernelspec": {
   "display_name": "Python 3 (ipykernel)",
   "language": "python",
   "name": "python3"
  },
  "language_info": {
   "codemirror_mode": {
    "name": "ipython",
    "version": 3
   },
   "file_extension": ".py",
   "mimetype": "text/x-python",
   "name": "python",
   "nbconvert_exporter": "python",
   "pygments_lexer": "ipython3",
   "version": "3.12.3"
  },
  "toc": {
   "base_numbering": 1,
   "nav_menu": {},
   "number_sections": true,
   "sideBar": true,
   "skip_h1_title": false,
   "title_cell": "Table of Contents",
   "title_sidebar": "Contents",
   "toc_cell": false,
   "toc_position": {},
   "toc_section_display": true,
   "toc_window_display": false
  },
  "vscode": {
   "interpreter": {
    "hash": "31f2aee4e71d21fbe5cf8b01ff0e069b9275f58929596ceb00d14d90e3e16cd6"
   }
  }
 },
 "nbformat": 4,
 "nbformat_minor": 5
}
