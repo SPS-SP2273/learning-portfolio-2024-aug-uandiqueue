{
 "cells": [
  {
   "attachments": {},
   "cell_type": "markdown",
   "id": "123456",
   "metadata": {},
   "source": [
    "<div style=\"text-align:left;font-size:2em\"><span style=\"font-weight:bolder;font-size:1.25em\">SP2273 | Learning Portfolio</span><br><br><span style=\"font-weight:bold;color:darkred\">Files, Folders & OS (Need) Exercises</span></div>"
   ]
  },
  {
   "cell_type": "code",
   "execution_count": 7,
   "id": "f3d33526-cb64-4396-8e73-9bf31670d40e",
   "metadata": {},
   "outputs": [
    {
     "name": "stdout",
     "output_type": "stream",
     "text": [
      "10-08-singapore.txt\n"
     ]
    }
   ],
   "source": [
    "import os\n",
    "import shutil\n",
    "import glob\n",
    "\n",
    "month_lib = {\n",
    "'jan': '01', 'feb': '02', 'mar': '03',\n",
    "'apr': '04', 'may': '05', 'jun': '06',\n",
    "'jul': '07', 'aug': '08', 'sep': '09',\n",
    "'oct': '10', 'nov': '11', 'dec': '12'\n",
    "}\n",
    "\n",
    "path = 'oct-08_singapore.txt'\n",
    "old_name = os.path.split(path)[1]  #separating path and file name\n",
    "altered_name = old_name.replace('_', '-')  #replacing _ in file name with -\n",
    "month = altered_name.split('-')[0]  #separating the month from file name\n",
    "num_month = month_lib[month]  #extracting numerical value of a month from library\n",
    "new_name = str(num_month) + '-' + altered_name.split('-')[1] + '-' + altered_name.split('-')[2]  #merging numerical month with the rest of the file name\n",
    "print(new_name)\n"
   ]
  },
  {
   "cell_type": "code",
   "execution_count": 54,
   "id": "543eae83-e185-499d-8651-177ee61fb67b",
   "metadata": {},
   "outputs": [],
   "source": [
    "#def rename_my_file(old_file_name):\n",
    "    old_name = os.path.split(old_file_name)[1]  #separating path and file name\n",
    "    altered_name = old_name.replace('_', '-')  #replacing _ in file name with -\n",
    "    month = altered_name.split('-')[0]  #separating the month from file name\n",
    "    if (month.isnumeric()):\n",
    "        return 1\n",
    "    for written_month in month_lib.keys():\n",
    "        num_month = month_lib[written_month]  #extracting numerical value of a month from library\n",
    "        if (written_month == month):\n",
    "            new_name = str(num_month) + '-' + altered_name.split('-')[1] + '-' + altered_name.split('-')[2]  #merging numerical month with the rest of the file name\n",
    "            return new_name"
   ]
  },
  {
   "cell_type": "code",
   "execution_count": 8,
   "id": "7a8cb2a1-c572-43e8-b7b5-e751771f2eb1",
   "metadata": {},
   "outputs": [],
   "source": [
    "def rename_my_file(old_file_name):\n",
    "    old_name = os.path.split(old_file_name)[1]  #separating path and file name\n",
    "    altered_name = old_name.replace('_', '-')  #replacing _ in file name with -\n",
    "    month = altered_name.split('-')[0]  #separating the month from file name\n",
    "    if (month.isnumeric()):\n",
    "        return 1\n",
    "    else:\n",
    "        num_month = month_lib[month]  #extracting numerical value of a month from library\n",
    "        new_name = str(num_month) + '-' + altered_name.split('-')[1] + '-' + altered_name.split('-')[2]  #merging numerical month with the rest of the file name\n",
    "        return new_name"
   ]
  },
  {
   "cell_type": "code",
   "execution_count": 11,
   "id": "2d224591-51f8-429c-910c-2dc19e7f3003",
   "metadata": {},
   "outputs": [
    {
     "name": "stdout",
     "output_type": "stream",
     "text": [
      "oct-08_singapore.txt ----> 10-08-singapore.txt\n",
      "jul-10_cairo.txt     ----> 07-10-cairo.txt\n",
      "may-15_dhaka.txt     ----> 05-15-dhaka.txt\n",
      "may-13_cairo.txt     ----> 05-13-cairo.txt\n",
      "oct-21_cairo.txt     ----> 10-21-cairo.txt\n",
      "jan-10_singapore.txt ----> 01-10-singapore.txt\n",
      "jun-20_tokyo.txt     ----> 06-20-tokyo.txt\n",
      "aug-06_jakarta.txt   ----> 08-06-jakarta.txt\n",
      "dec-21_karachi.txt   ----> 12-21-karachi.txt\n",
      "jan-01_tokyo.txt     ----> 01-01-tokyo.txt\n"
     ]
    }
   ],
   "source": [
    "file_list = ['oct-08_singapore.txt', 'jul-10_cairo.txt', 'may-15_dhaka.txt',\n",
    " 'may-13_cairo.txt', 'oct-21_cairo.txt', 'jan-10_singapore.txt',\n",
    " 'jun-20_tokyo.txt', 'aug-06_jakarta.txt', 'dec-21_karachi.txt',\n",
    " 'jan-01_tokyo.txt']\n",
    "\n",
    "for file_name in file_list:\n",
    "    new_name = rename_my_file(file_name)\n",
    "    if (new_name == 1):  #skip when name is already changed\n",
    "        print('skip')\n",
    "    else:\n",
    "        print(f\"{file_name:<20} ----> {new_name}\")"
   ]
  },
  {
   "cell_type": "code",
   "execution_count": 156,
   "id": "1eced90c-d501-4194-890c-99ff6539dfca",
   "metadata": {},
   "outputs": [],
   "source": [
    "all_txt_files = glob.glob(os.path.join('os-collaboration-exercise-data', '*.txt'), recursive = True)\n",
    "\n",
    "for txt_file in all_txt_files:\n",
    "    new_txt_file = rename_my_file(txt_file)\n",
    "    if (new_txt_file == 1):  #skip files with changed name\n",
    "        continue\n",
    "    else:\n",
    "        new_name = os.path.join('os-collaboration-exercise-data', new_txt_file)  #forming new file name (need to include the path)\n",
    "        os.rename(txt_file, new_name)"
   ]
  },
  {
   "cell_type": "code",
   "execution_count": 157,
   "id": "e5bf09e0-910c-4462-bc0a-39ff1e6a3f23",
   "metadata": {},
   "outputs": [],
   "source": [
    "city_list = ['Cairo', 'Dhaka', 'Jakarta', 'Karachi', 'Manila',\n",
    " 'Melbourne', 'Osaka', 'Shanghai', 'Singapore', 'Tokyo']\n",
    "\n",
    "for city in city_list:\n",
    "    path = os.path.join('os-collaboration-exercise-data', city)\n",
    "    try:\n",
    "        os.mkdir(path)  #creating folders\n",
    "    except FileExistsError:\n",
    "        continue"
   ]
  },
  {
   "cell_type": "code",
   "execution_count": 125,
   "id": "c450618a-beb4-4e78-9cb6-d7a9914e094e",
   "metadata": {},
   "outputs": [],
   "source": [
    "cairo_list = glob.glob(os.path.join('os-collaboration-exercise-data', '*cairo.*'))\n",
    "\n",
    "for cairo_file_path in cairo_list:\n",
    "    cairo_file_name = os.path.split(cairo_file_path)[1]  #extracting the file name only\n",
    "    new_cairo_path = os.path.join('os-collaboration-exercise-data', 'Cairo', cairo_file_name)  #inserting file name into new path with folder\n",
    "    shutil.copy(cairo_file_path, new_cairo_path)  #copy old path file and paste in new path (folder)"
   ]
  },
  {
   "cell_type": "code",
   "execution_count": 37,
   "id": "de15b364-ff78-4aa8-9525-9649be1b31c4",
   "metadata": {},
   "outputs": [],
   "source": [
    "city_list = ['Cairo', 'Dhaka', 'Jakarta', 'Karachi', 'Manila',\n",
    " 'Melbourne', 'Osaka', 'Shanghai', 'Singapore', 'Tokyo']\n",
    "\n",
    "for city in city_list:\n",
    "    city_folder_path = os.path.join('os-collaboration-exercise-data', city)  #finding the city folder path\n",
    "    city_lc_name = '*' + city.lower() + '.*'  #converting city into lowercase and merge to form general city file name for glob\n",
    "    specific_city_file_list = glob.glob(os.path.join('os-collaboration-exercise-data', city_lc_name))  #list of the specific city files in this loop\n",
    "    for specific_city_file in specific_city_file_list:\n",
    "        specific_datecity_name = os.path.split(specific_city_file)[1]\n",
    "        if (glob.glob(os.path.join(city_folder_path, specific_datecity_name)) == [os.path.join(city_folder_path, specific_datecity_name)]):\n",
    "            print(f'\"{os.path.join(city_folder_path, specific_datecity_name)}\" already exists in {city} folder')\n",
    "        else:\n",
    "            specific_city_file_name = os.path.split(specific_city_file)[1]  #extracting the name of the specific city files\n",
    "            new_specific_city_path = os.path.join(city_folder_path, specific_city_file_name)  #forming new path for the files to move them into the city folder\n",
    "            shutil.move(specific_city_file, new_specific_city_path)"
   ]
  }
 ],
 "metadata": {
  "kernelspec": {
   "display_name": "Python 3 (ipykernel)",
   "language": "python",
   "name": "python3"
  },
  "language_info": {
   "codemirror_mode": {
    "name": "ipython",
    "version": 3
   },
   "file_extension": ".py",
   "mimetype": "text/x-python",
   "name": "python",
   "nbconvert_exporter": "python",
   "pygments_lexer": "ipython3",
   "version": "3.12.3"
  },
  "toc": {
   "base_numbering": 1,
   "nav_menu": {},
   "number_sections": true,
   "sideBar": true,
   "skip_h1_title": false,
   "title_cell": "Table of Contents",
   "title_sidebar": "Contents",
   "toc_cell": false,
   "toc_position": {},
   "toc_section_display": true,
   "toc_window_display": false
  },
  "vscode": {
   "interpreter": {
    "hash": "31f2aee4e71d21fbe5cf8b01ff0e069b9275f58929596ceb00d14d90e3e16cd6"
   }
  }
 },
 "nbformat": 4,
 "nbformat_minor": 5
}
