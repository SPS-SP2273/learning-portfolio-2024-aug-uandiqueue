{
 "cells": [
  {
   "attachments": {},
   "cell_type": "markdown",
   "id": "123456",
   "metadata": {},
   "source": [
    "<div style=\"text-align:left;font-size:2em\"><span style=\"font-weight:bolder;font-size:1.25em\">SP2273 | Learning Portfolio</span><br><br><span style=\"font-weight:bold;color:darkred\">Fundamentals (Need) Exercises</span></div>"
   ]
  },
  {
   "cell_type": "markdown",
   "id": "22781de6-de26-46ae-a07a-f6cd9c2483c4",
   "metadata": {},
   "source": [
    "1. Python is interpreted\n",
    "2. Python is case-sensitive\n",
    "3. Python sees `=` and `==` differently\n",
    "4. Python uses indentations for sectioning\n",
    "5. Functions\n",
    "6. Packages\n",
    "7. Datatypes\n",
    "8. `if`\n",
    "9. *Python ignores all comments*\n",
    "10. *Python uses `()`, `[]`, and `{}` differently*\n",
    "11. *Python uses `.` to indicate ownership*"
   ]
  },
  {
   "cell_type": "code",
   "execution_count": 6,
   "id": "cae446f7-5a6f-42c0-ac0d-3b5da96f32de",
   "metadata": {},
   "outputs": [
    {
     "name": "stdout",
     "output_type": "stream",
     "text": [
      "3 4 5.0\n"
     ]
    }
   ],
   "source": [
    "import math\n",
    "x, y = 3, 4\n",
    "z = math.sqrt(x**2 + y**2)\n",
    "print(x, y, z)"
   ]
  },
  {
   "cell_type": "markdown",
   "id": "3cf5000b-6644-4d75-b581-4065770c45ed",
   "metadata": {},
   "source": [
    "| **#**  | **Term**         | **Description**                                                                       |\n",
    "|----|--------------|-----------------------------------------------------------------------------------|\n",
    "| 1  | Function     | Executes specific task.                |\n",
    "| 2  | Arguments    | Arguments are input given to a function.                                          |\n",
    "| 3  | Comments     | Lines read by humans but ignored by the machine.                                  |\n",
    "| 4  | Indentations | Indicate the specific codes that are run when a particular condition (if) is met. |\n",
    "| 5  | Packages     | Define functions used in code.                                                    |\n",
    "| 6  | `.`            | Indicate which package define the function.                                                                                  |\n",
    "| 7  | `:`            | Place after \"if\" or \"else\" to indicate the start of the specific codes to be run when the conditions are met.                                                                                  |\n",
    "| 8  | `[]`           | Use to store multiple values in a 1D list/array.                                                                              |\n",
    "| 9  | `[[] , []]`      | Use to store multiple variables in a 2D list/array.                                                                                  |\n",
    "| 10 | `{ }`           | Use to store multiple variables and their values matching to the variables.                                                                                  |"
   ]
  },
  {
   "cell_type": "code",
   "execution_count": 1,
   "id": "fefbea14-7102-40db-a307-3d1e77aa08a3",
   "metadata": {},
   "outputs": [
    {
     "name": "stdout",
     "output_type": "stream",
     "text": [
      "2.5\n"
     ]
    }
   ],
   "source": [
    "print(5/2) #5/2 gives the value of 5 divides by 2, including the decimals of the value."
   ]
  },
  {
   "cell_type": "code",
   "execution_count": 2,
   "id": "39a6e24f-bb78-41cf-9807-453413679ed6",
   "metadata": {},
   "outputs": [
    {
     "name": "stdout",
     "output_type": "stream",
     "text": [
      "2\n"
     ]
    }
   ],
   "source": [
    "print(5//2) #5//2 gives the quotient of 5 divides by 2."
   ]
  },
  {
   "cell_type": "code",
   "execution_count": 3,
   "id": "473d3184-2f78-4ba2-a08b-e180a24e5dbd",
   "metadata": {},
   "outputs": [
    {
     "name": "stdout",
     "output_type": "stream",
     "text": [
      "1\n"
     ]
    }
   ],
   "source": [
    "print(5%2) #5%2 gives the remainder of 5 divides by 2."
   ]
  }
 ],
 "metadata": {
  "kernelspec": {
   "display_name": "Python 3 (ipykernel)",
   "language": "python",
   "name": "python3"
  },
  "language_info": {
   "codemirror_mode": {
    "name": "ipython",
    "version": 3
   },
   "file_extension": ".py",
   "mimetype": "text/x-python",
   "name": "python",
   "nbconvert_exporter": "python",
   "pygments_lexer": "ipython3",
   "version": "3.12.3"
  },
  "toc": {
   "base_numbering": 1,
   "nav_menu": {},
   "number_sections": true,
   "sideBar": true,
   "skip_h1_title": false,
   "title_cell": "Table of Contents",
   "title_sidebar": "Contents",
   "toc_cell": false,
   "toc_position": {},
   "toc_section_display": true,
   "toc_window_display": false
  },
  "vscode": {
   "interpreter": {
    "hash": "31f2aee4e71d21fbe5cf8b01ff0e069b9275f58929596ceb00d14d90e3e16cd6"
   }
  }
 },
 "nbformat": 4,
 "nbformat_minor": 5
}
