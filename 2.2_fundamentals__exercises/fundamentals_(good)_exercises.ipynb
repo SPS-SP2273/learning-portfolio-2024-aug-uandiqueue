{
 "cells": [
  {
   "attachments": {},
   "cell_type": "markdown",
   "id": "123456",
   "metadata": {},
   "source": [
    "<div style=\"text-align:left;font-size:2em\"><span style=\"font-weight:bolder;font-size:1.25em\">SP2273 | Learning Portfolio</span><br><br><span style=\"font-weight:bold;color:darkred\">Fundamentals (Good) Exercises</span></div>"
   ]
  },
  {
   "cell_type": "code",
   "execution_count": 7,
   "id": "c227f386-e7a2-402d-abfe-6cacfbd26c9a",
   "metadata": {},
   "outputs": [
    {
     "name": "stdin",
     "output_type": "stream",
     "text": [
      "What is your name?\n",
      " Jayden\n"
     ]
    },
    {
     "name": "stdout",
     "output_type": "stream",
     "text": [
      "How you doin Jayden!\n"
     ]
    }
   ],
   "source": [
    "name1 = input('What is your name?\\n')\n",
    "print(f'How you doin {name1}!')"
   ]
  },
  {
   "cell_type": "code",
   "execution_count": 8,
   "id": "7d792cc8-ae50-46ea-ad20-343c44080294",
   "metadata": {},
   "outputs": [
    {
     "name": "stdin",
     "output_type": "stream",
     "text": [
      "What is your name?\n",
      " Jayden\n",
      "What is your age?\n",
      " 20\n"
     ]
    },
    {
     "name": "stdout",
     "output_type": "stream",
     "text": [
      "My name is Jayden and I am 20 years old.\n"
     ]
    }
   ],
   "source": [
    "name2 = input('What is your name?\\n')\n",
    "age2 = input('What is your age?\\n')\n",
    "print(f'My name is {name2} and I am {age2} years old.')"
   ]
  },
  {
   "cell_type": "code",
   "execution_count": 10,
   "id": "3f17cf70-6797-4490-a4e3-87f58cfa9676",
   "metadata": {},
   "outputs": [
    {
     "name": "stdout",
     "output_type": "stream",
     "text": [
      "The value of pi to 2 decimal places is: 3.14\n",
      "\n",
      "The value of pi to 2 decimal places is: 3.142\n",
      "\n",
      "The value of pi to 2 decimal places is: 3.1416\n",
      "\n"
     ]
    }
   ],
   "source": [
    "pi = 3.141592653589793\n",
    "print(f'The value of pi to 2 decimal places is: {pi:.2f}\\n')\n",
    "print(f'The value of pi to 2 decimal places is: {pi:.3f}\\n')\n",
    "print(f'The value of pi to 2 decimal places is: {pi:.4f}\\n')"
   ]
  },
  {
   "cell_type": "code",
   "execution_count": 17,
   "id": "988008bd-5d52-41bd-b8d2-21ba718692ed",
   "metadata": {},
   "outputs": [
    {
     "name": "stdout",
     "output_type": "stream",
     "text": [
      "Apple      $ 0.99\n",
      "Banana     $ 0.59\n",
      "Orange     $ 1.29\n"
     ]
    }
   ],
   "source": [
    "fruit1, fruit2, fruit3 = 'Apple', 'Banana', 'Orange'\n",
    "price1, price2, price3 = '0.99', '0.59', '1.29'\n",
    "print(f'{fruit1:<10} ${price1:>5}\\n{fruit2:<10} ${price2:>5}\\n{fruit3:<10} ${price3:>5}')"
   ]
  },
  {
   "cell_type": "code",
   "execution_count": 30,
   "id": "83e89f77-ba98-4dfd-80d4-5279c28e1822",
   "metadata": {},
   "outputs": [
    {
     "name": "stdout",
     "output_type": "stream",
     "text": [
      "Apple      $ 0.99\n",
      "\n",
      "Banana     $ 0.59\n",
      "\n",
      "Orange     $ 1.29\n",
      "\n"
     ]
    }
   ],
   "source": [
    "# Just trying\n",
    "fruit = ['Apple', 'Banana', 'Orange']\n",
    "price = ['0.99', '0.59', '1.29']\n",
    "i = 0\n",
    "for i in range(3):\n",
    "    print(f'{fruit[i]:<10} ${price[i]:>5}\\n')\n",
    "    i += 1"
   ]
  },
  {
   "cell_type": "code",
   "execution_count": 38,
   "id": "43ca1c39-ba2c-43b4-be79-0d6c61395771",
   "metadata": {},
   "outputs": [
    {
     "name": "stdin",
     "output_type": "stream",
     "text": [
      "Enter the student's score:  90\n"
     ]
    },
    {
     "name": "stdout",
     "output_type": "stream",
     "text": [
      "\n",
      "The student's letter grade is: A\n"
     ]
    }
   ],
   "source": [
    "score = input('Enter the student\\'s score: ')\n",
    "score = int(score)\n",
    "\n",
    "error = 0\n",
    "if (70 < score < 100):\n",
    "    grade = 'A'\n",
    "elif (50 < score < 69):\n",
    "    grade = 'B'\n",
    "elif (35 < score < 49):\n",
    "    grade = 'C'\n",
    "elif (0 < score < 34):\n",
    "    grade = 'Fail'\n",
    "else:\n",
    "    error = 1\n",
    "\n",
    "if (error == 0):\n",
    "    print(f'\\nThe student\\'s letter grade is: {grade}')\n",
    "else:\n",
    "    print('Error')"
   ]
  },
  {
   "cell_type": "code",
   "execution_count": 41,
   "id": "cab5ba72-480e-483d-809b-3495102ec35b",
   "metadata": {},
   "outputs": [
    {
     "name": "stdout",
     "output_type": "stream",
     "text": [
      "120\n",
      "Invalid input\n"
     ]
    }
   ],
   "source": [
    "def factorial(n):\n",
    "    if (n < 0):\n",
    "        return \"Invalid input\"\n",
    "    elif (n == 0):\n",
    "        return 1\n",
    "    else:\n",
    "        result = 1\n",
    "        for number in range(1, n+1):\n",
    "            result *= number\n",
    "        return result\n",
    "\n",
    "\n",
    "print(factorial(5))   # Testing, expected output: 120\n",
    "print(factorial(-1))  # Testing, expected output: Invalid input"
   ]
  }
 ],
 "metadata": {
  "kernelspec": {
   "display_name": "Python 3 (ipykernel)",
   "language": "python",
   "name": "python3"
  },
  "language_info": {
   "codemirror_mode": {
    "name": "ipython",
    "version": 3
   },
   "file_extension": ".py",
   "mimetype": "text/x-python",
   "name": "python",
   "nbconvert_exporter": "python",
   "pygments_lexer": "ipython3",
   "version": "3.12.3"
  },
  "toc": {
   "base_numbering": 1,
   "nav_menu": {},
   "number_sections": true,
   "sideBar": true,
   "skip_h1_title": false,
   "title_cell": "Table of Contents",
   "title_sidebar": "Contents",
   "toc_cell": false,
   "toc_position": {},
   "toc_section_display": true,
   "toc_window_display": false
  },
  "vscode": {
   "interpreter": {
    "hash": "31f2aee4e71d21fbe5cf8b01ff0e069b9275f58929596ceb00d14d90e3e16cd6"
   }
  }
 },
 "nbformat": 4,
 "nbformat_minor": 5
}
