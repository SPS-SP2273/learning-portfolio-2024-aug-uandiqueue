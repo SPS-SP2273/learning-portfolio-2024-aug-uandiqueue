{
 "cells": [
  {
   "attachments": {},
   "cell_type": "markdown",
   "id": "123456",
   "metadata": {},
   "source": [
    "<div style=\"text-align:left;font-size:2em\"><span style=\"font-weight:bolder;font-size:1.25em\">SP2273 | Learning Portfolio</span><br><br><span style=\"font-weight:bold;color:darkred\">Storing Data (Need) Exercises</span></div>"
   ]
  },
  {
   "cell_type": "markdown",
   "id": "4119bb2f-4b3f-43bb-a50f-ff768e943f28",
   "metadata": {},
   "source": [
    "1. 1. Both lists and arrays store data.\n",
    "   2. The order of the elements in both lists and arrays are important when retrieving the elements.\n",
    "1. 1. Lists are less particular with data types, while arrays will convert all data types into the same data type (only allows one data type)\n",
    "   2. Adding two lists expands a list, while adding two arrays increases the values of the elements.\n",
    "1. A dictionary store data in a way such that it pairs a key with its value. We can access the value using the key."
   ]
  },
  {
   "cell_type": "code",
   "execution_count": 36,
   "id": "33b75927-32ec-481f-8839-c7fc6297f37b",
   "metadata": {},
   "outputs": [
    {
     "name": "stdout",
     "output_type": "stream",
     "text": [
      "a1\n",
      "c3\n",
      "e5\n",
      "g7\n",
      "i9\n"
     ]
    }
   ],
   "source": [
    "py_list = [\"a1\", \"b2\", \"c3\", \"d4\", \"e5\", \"f6\", \"g7\", \"h8\", \"i9\", \"j10\"]\n",
    "\n",
    "print(py_list[0])   # Prints 'a1'\n",
    "print(py_list[2])   # Prints 'c3'\n",
    "print(py_list[4])   # Prints 'e5'\n",
    "print(py_list[6])   # Prints 'g7'\n",
    "print(py_list[8])   # Prints 'i9'"
   ]
  },
  {
   "cell_type": "code",
   "execution_count": 38,
   "id": "ae100e81-ccae-4a26-bc5f-13b291a561e4",
   "metadata": {},
   "outputs": [
    {
     "name": "stdout",
     "output_type": "stream",
     "text": [
      "a1\n",
      "c3\n",
      "e5\n",
      "g7\n",
      "i9\n"
     ]
    }
   ],
   "source": [
    "# Just trying\n",
    "py_list = [\"a1\", \"b2\", \"c3\", \"d4\", \"e5\", \"f6\", \"g7\", \"h8\", \"i9\", \"j10\"]\n",
    "\n",
    "for i in range(10):\n",
    "    if (i % 2 == 0):\n",
    "        print(py_list[i])"
   ]
  },
  {
   "cell_type": "code",
   "execution_count": 1,
   "id": "9921ef52-5001-4a8c-b745-62cffda5083b",
   "metadata": {},
   "outputs": [
    {
     "name": "stdout",
     "output_type": "stream",
     "text": [
      "Boron\n",
      "Boron\n"
     ]
    }
   ],
   "source": [
    "elements = ['Hydrogen',\n",
    "            'Helium', 'Lithium',\n",
    "            'Beryllium', 'Boron', 'Carbon',\n",
    "            'Nitrogen', 'Oxygen',\n",
    "            'Fluorine',\n",
    "            'Neon']\n",
    "\n",
    "print(elements[4])\n",
    "print(elements[-6])"
   ]
  },
  {
   "cell_type": "code",
   "execution_count": 4,
   "id": "f7a20b8f-6d30-48c7-9beb-703ede434331",
   "metadata": {},
   "outputs": [
    {
     "name": "stdout",
     "output_type": "stream",
     "text": [
      "Number of 1 = 9\n"
     ]
    }
   ],
   "source": [
    "import numpy as np\n",
    "numbers=[45, 60, 1, 30, 96, 1, 96, 57, 16, 1,\n",
    "        99, 62, 86, 43, 42, 60, 59, 1, 1, 35,\n",
    "        83, 47, 34, 28, 68, 23, 22, 92, 1, 79,\n",
    "        1, 29, 94, 72, 46, 47, 1, 74, 32, 20,\n",
    "        8, 37, 35, 1, 89, 29, 86, 19, 43, 61]\n",
    "\n",
    "np_numbers = np.array(numbers)\n",
    "np_boolean = np_numbers == 1\n",
    "number_one = np_boolean.sum()\n",
    "print(f'Number of 1 = {number_one}')"
   ]
  },
  {
   "cell_type": "code",
   "execution_count": 11,
   "id": "0298f0e5-b373-4640-a23e-244d7c82177a",
   "metadata": {},
   "outputs": [
    {
     "name": "stdout",
     "output_type": "stream",
     "text": [
      "Number of 1 = 9\n"
     ]
    }
   ],
   "source": [
    "# Just trying\n",
    "numbers = [45, 60, 1, 30, 96, 1, 96, 57, 16, 1,\n",
    "        99, 62, 86, 43, 42, 60, 59, 1, 1, 35,\n",
    "        83, 47, 34, 28, 68, 23, 22, 92, 1, 79,\n",
    "        1, 29, 94, 72, 46, 47, 1, 74, 32, 20,\n",
    "        8, 37, 35, 1, 89, 29, 86, 19, 43, 61]  \n",
    "\n",
    "np_numbers = np.array(numbers)\n",
    "number_element = len(np_numbers)\n",
    "number_one = 0\n",
    "for i in range(number_element):\n",
    "    if (np_numbers[i] == 1):\n",
    "        number_one += 1\n",
    "\n",
    "print(f'Number of 1 = {number_one}')"
   ]
  },
  {
   "cell_type": "code",
   "execution_count": 55,
   "id": "5d24c177-006d-4ec0-bd2a-de34f36e3147",
   "metadata": {},
   "outputs": [
    {
     "name": "stdout",
     "output_type": "stream",
     "text": [
      "1. Mean of x1 = 38.5, mean of x2 = 302.5\n",
      "\n",
      "2. Standard deviation of x1 = 32.41990129534635, standard deviation of x2 = 326.0893282522444\n",
      "\n",
      "3. r = 0.9871796626270701\n",
      "\n",
      "[[1.         0.98717966]\n",
      " [0.98717966 1.        ]]\n"
     ]
    }
   ],
   "source": [
    "x_1 = [1, 4, 9, 16, 25, 36, 49, 64, 81, 100]\n",
    "x_2 = [1, 8, 27, 64, 125, 216, 343, 512, 729, 1000]\n",
    "\n",
    "np_x1 = np.array(x_1)\n",
    "np_x2 = np.array(x_2)\n",
    "mean_x1 = np_x1.mean()\n",
    "mean_x2 = np_x2.mean()\n",
    "print(f'1. Mean of x1 = {mean_x1}, mean of x2 = {mean_x2}\\n')\n",
    "\n",
    "sd_x1 = np_x1.std()\n",
    "sd_x2 = np_x2.std()\n",
    "print(f'2. Standard deviation of x1 = {sd_x1}, standard deviation of x2 = {sd_x2}\\n')\n",
    "\n",
    "x1_minus_mean = np_x1 - mean_x1\n",
    "x2_minus_mean = np_x2 - mean_x2\n",
    "product1 = x1_minus_mean*x2_minus_mean\n",
    "numerator = product1.sum()\n",
    "x1mm_square = x1_minus_mean**2\n",
    "x2mm_square = x2_minus_mean**2\n",
    "x1mms_sum = x1mm_square.sum()\n",
    "x2mms_sum = x2mm_square.sum()\n",
    "denominator = np.sqrt(x1mms_sum*x2mms_sum)\n",
    "r = numerator/denominator\n",
    "print(f'3. r = {r}\\n')\n",
    "\n",
    "checking = np.corrcoef(np_x1, np_x2)\n",
    "print(checking)"
   ]
  }
 ],
 "metadata": {
  "kernelspec": {
   "display_name": "Python 3 (ipykernel)",
   "language": "python",
   "name": "python3"
  },
  "language_info": {
   "codemirror_mode": {
    "name": "ipython",
    "version": 3
   },
   "file_extension": ".py",
   "mimetype": "text/x-python",
   "name": "python",
   "nbconvert_exporter": "python",
   "pygments_lexer": "ipython3",
   "version": "3.12.3"
  },
  "toc": {
   "base_numbering": 1,
   "nav_menu": {},
   "number_sections": true,
   "sideBar": true,
   "skip_h1_title": false,
   "title_cell": "Table of Contents",
   "title_sidebar": "Contents",
   "toc_cell": false,
   "toc_position": {},
   "toc_section_display": true,
   "toc_window_display": false
  },
  "vscode": {
   "interpreter": {
    "hash": "31f2aee4e71d21fbe5cf8b01ff0e069b9275f58929596ceb00d14d90e3e16cd6"
   }
  }
 },
 "nbformat": 4,
 "nbformat_minor": 5
}
