{
 "cells": [
  {
   "attachments": {},
   "cell_type": "markdown",
   "id": "123456",
   "metadata": {},
   "source": [
    "<div style=\"text-align:left;font-size:2em\"><span style=\"font-weight:bolder;font-size:1.25em\">SP2273 | Learning Portfolio</span><br><br><span style=\"font-weight:bold;color:darkred\">Storing Data (Good) Exercises</span></div>"
   ]
  },
  {
   "cell_type": "markdown",
   "id": "71c35742-07e3-4c71-81f8-671a4b17e3f9",
   "metadata": {},
   "source": [
    "Subsetting: To select one or more elements from a list or array.\n",
    "\n",
    "Indexing: To select an element from a list or array.\n",
    "\n",
    "Slicing: To select a range of elements from a list or array.\n",
    "\n",
    "Masking: To select elements that are 'True' to a condition from an array."
   ]
  },
  {
   "cell_type": "code",
   "execution_count": 1,
   "id": "598ce471-ecfc-4966-9644-9f51b2b3983f",
   "metadata": {},
   "outputs": [
    {
     "name": "stdout",
     "output_type": "stream",
     "text": [
      "['A' 'C' 'E' 'G' 'I']\n"
     ]
    }
   ],
   "source": [
    "import numpy as np\n",
    "np_array_2d = np.array([[1, \"A\"], [3, \"C\"], [2, \"B\"], [4, \"D\"],\n",
    "                        [5, \"E\"], [7, \"G\"], [6, \"F\"], [8, \"H\"],\n",
    "                        [10, \"J\"], [9, \"I\"]])\n",
    "np_array_number = np_array_2d[:,0] #to extract all the numbers out as the numbers are index 0 in the sub-list\n",
    "np_array_int = np_array_number.astype(int) #numpy array will change all elements into char so need to convert the numbers into int for maths operation\n",
    "np_array_int_odd = np_array_int % 2 != 0 #to find odd number\n",
    "print(np_array_2d[np_array_int_odd, 1]) #to exctract odd number's alphabet"
   ]
  },
  {
   "cell_type": "code",
   "execution_count": 7,
   "id": "92fbfc1f-4a4a-46c2-b9e3-6887294a9f06",
   "metadata": {},
   "outputs": [
    {
     "name": "stdout",
     "output_type": "stream",
     "text": [
      "[[ 1  0  1 -1 -1]\n",
      " [ 1 -1  1 -1 -1]\n",
      " [ 1 -1 -1  1 -1]\n",
      " [-1  1  1 -1 -1]\n",
      " [ 1 -1  1 -1  1]]\n"
     ]
    }
   ],
   "source": [
    "array_2d = np.array([[66, 50, 57, -1, -1],\n",
    "                     [92, -1, 88, -1, -1],\n",
    "                     [75, -1, -1, 76, -1],\n",
    "                     [-1, 51, 87, -1, -1],\n",
    "                     [71, -1, 67, -1, 69]])\n",
    "array_less50 = array_2d < 50 #extract elements that are less than 50\n",
    "array_more50 = array_2d > 50\n",
    "array_equal50 = array_2d == 50 \n",
    "array_2d[array_less50] = -1 #converting elements in main list\n",
    "array_2d[array_more50] = 1\n",
    "array_2d[array_equal50] = 0\n",
    "print(array_2d)"
   ]
  }
 ],
 "metadata": {
  "kernelspec": {
   "display_name": "Python 3 (ipykernel)",
   "language": "python",
   "name": "python3"
  },
  "language_info": {
   "codemirror_mode": {
    "name": "ipython",
    "version": 3
   },
   "file_extension": ".py",
   "mimetype": "text/x-python",
   "name": "python",
   "nbconvert_exporter": "python",
   "pygments_lexer": "ipython3",
   "version": "3.12.3"
  },
  "toc": {
   "base_numbering": 1,
   "nav_menu": {},
   "number_sections": true,
   "sideBar": true,
   "skip_h1_title": false,
   "title_cell": "Table of Contents",
   "title_sidebar": "Contents",
   "toc_cell": false,
   "toc_position": {},
   "toc_section_display": true,
   "toc_window_display": false
  },
  "vscode": {
   "interpreter": {
    "hash": "31f2aee4e71d21fbe5cf8b01ff0e069b9275f58929596ceb00d14d90e3e16cd6"
   }
  }
 },
 "nbformat": 4,
 "nbformat_minor": 5
}
